{
 "cells": [
  {
   "source": [
    "<h1>Utilisation de l'API </h1>"
   ],
   "cell_type": "markdown",
   "metadata": {}
  },
  {
   "cell_type": "code",
   "execution_count": 102,
   "metadata": {},
   "outputs": [],
   "source": [
    "import requests"
   ]
  },
  {
   "source": [
    "<h1>Entrainement de la machine</h1> \n",
    "<h5>La machine va s'entrainer à l'aide du corpus de texte </h5>"
   ],
   "cell_type": "markdown",
   "metadata": {}
  },
  {
   "cell_type": "code",
   "execution_count": 103,
   "metadata": {},
   "outputs": [
    {
     "output_type": "execute_result",
     "data": {
      "text/plain": "{&#39;Fiabilité de la machine&#39;: 83.0}"
     },
     "metadata": {},
     "execution_count": 103
    }
   ],
   "source": [
    "route='/training'\n",
    "url='http://127.0.0.1:5000'+route\n",
    "\n",
    "r=requests.get(url)\n",
    "r.json()"
   ]
  },
  {
   "source": [
    "<h1>Prediction graĉe à la machine entrainée</h1> \n",
    "\n",
    "\n",
    "<h4>Testons un avis négatif</h4>"
   ],
   "cell_type": "markdown",
   "metadata": {}
  },
  {
   "cell_type": "code",
   "execution_count": 104,
   "metadata": {},
   "outputs": [
    {
     "output_type": "execute_result",
     "data": {
      "text/plain": "{&#39;Résultat&#39;: &#39;Avis Négatif&#39;,\n &#39;pourcentage de fiabilité&#39;: 80.0,\n &#39;text_user&#39;: &#39;mauvais , déçu&#39;}"
     },
     "metadata": {},
     "execution_count": 104
    }
   ],
   "source": [
    "\n",
    "route='/predict'\n",
    "url='http://127.0.0.1:5000'+route\n",
    "\n",
    "param={'input_text':'mauvais , déçu'}\n",
    "r=requests.post(url,data=param)\n",
    "r.json()"
   ]
  },
  {
   "source": [
    "<h4>Testons un avis négatif</h4>"
   ],
   "cell_type": "markdown",
   "metadata": {}
  },
  {
   "cell_type": "code",
   "execution_count": 105,
   "metadata": {},
   "outputs": [
    {
     "output_type": "execute_result",
     "data": {
      "text/plain": "{&#39;Résultat&#39;: &#39;Avis Positif&#39;,\n &#39;pourcentage de fiabilité&#39;: 76.0,\n &#39;text_user&#39;: &#39;excellent parfait génial énorme&#39;}"
     },
     "metadata": {},
     "execution_count": 105
    }
   ],
   "source": [
    "\n",
    "route='/predict'\n",
    "url='http://127.0.0.1:5000'+route\n",
    "\n",
    "param={'input_text':'excellent parfait génial énorme'}\n",
    "r=requests.post(url,data=param)\n",
    "r.json()"
   ]
  },
  {
   "cell_type": "code",
   "execution_count": null,
   "metadata": {},
   "outputs": [],
   "source": []
  }
 ],
 "metadata": {
  "kernelspec": {
   "display_name": "Python 3",
   "language": "python",
   "name": "python3"
  },
  "language_info": {
   "codemirror_mode": {
    "name": "ipython",
    "version": 3
   },
   "file_extension": ".py",
   "mimetype": "text/x-python",
   "name": "python",
   "nbconvert_exporter": "python",
   "pygments_lexer": "ipython3",
   "version": "3.8.3-final"
  }
 },
 "nbformat": 4,
 "nbformat_minor": 2
}